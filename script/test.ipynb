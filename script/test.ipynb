{
 "cells": [
  {
   "cell_type": "code",
   "execution_count": 1,
   "metadata": {},
   "outputs": [],
   "source": [
    "\n",
    "\n",
    "PREFIX = \"https://oss.x-lab.info/open_digger/github/\"\n",
    "DEFAULT_TARGET = \"X-lab2017/open-digger\"\n",
    "\n",
    "METRIC = {\n",
    "    \"OPENRANK\": \"openrank.json\",\n",
    "    \"ACTIVITY\": \"activity.json\",\n",
    "    \"ATTENTION\": \"attention.json\",\n",
    "    \"ACTIVE_DATES_AND_TIMES\": \"active_dates_and_times.json\",\n",
    "    \"STARS\": \"stars.json\",\n",
    "    \"TECHNICAL_FORK\": \"technical_fork.json\",\n",
    "    \"PARTICIPANTS\": \"participants.json\",\n",
    "    \"NEW_CONTRIBUTORS\": \"new_contributors.json\",\n",
    "    \"NEW_CONTRIBUTORS_DETAIL\": \"new_contributors_detail.json\",\n",
    "    \"INACTIVE_CONTRIBUTORS\": \"inactive_contributors.json\",\n",
    "    \"BUS_FACTOR\": \"bus_factor.json\",\n",
    "    \"BUS_FACTOR_DETAIL\": \"bus_factor_detail.json\",\n",
    "    \"ISSUES_NEW\": \"issues_new.json\",\n",
    "    \"ISSUES_CLOSED\": \"issues_closed.json\",\n",
    "    \"ISSUE_COMMENTS\": \"issue_comments.json\",\n",
    "    \"ISSUE_RESPONSE_TIME\": \"issue_response_time.json\",\n",
    "    \"ISSUE_RESOLUTION_DURATION\": \"issue_resolution_duration.json\",\n",
    "    \"ISSUE_AGE\": \"issue_age.json\",\n",
    "    \"CODE_CHANGE_LINES_ADD\": \"code_change_lines_add.json\",\n",
    "    \"CODE_CHANGE_LINES_REMOVE\": \"code_change_lines_remove.json\",\n",
    "    \"CODE_CHANGE_LINES_SUM\": \"code_change_lines_sum.json\",\n",
    "    \"CHANGE_REQUESTS\": \"change_requests.json\",\n",
    "    \"CHANGE_REQUESTS_ACCEPTED\": \"change_requests_accepted.json\",\n",
    "    \"CHANGE_REQUESTS_REVIEWS\": \"change_requests_reviews.json\",\n",
    "    \"CHANGE_REQUEST_RESPONSE_TIME\": \"change_request_response_time.json\",\n",
    "    \"CHANGE_REQUEST_RESOLUTION_DURATION\": \"change_request_resolution_duration.json\",\n",
    "    \"CHANGE_REQUEST_AGE\": \"change_request_age.json\",\n",
    "    \"ACTIVITY_DETAILS\": \"activity_details.json\",\n",
    "    \"DEVELOPER_NETWORK\": \"developer_network.json\",\n",
    "    \"REPO_NETWORK\": \"repo_network.json\",\n",
    "    \"PROJECT_OPENRANK_DETAIL\": \"project_openrank_detail/2022-12.json\"\n",
    "}\n",
    "\n",
    "\n"
   ]
  },
  {
   "cell_type": "code",
   "execution_count": 2,
   "metadata": {},
   "outputs": [
    {
     "name": "stdout",
     "output_type": "stream",
     "text": [
      "Failed to fetch JSON data.\n"
     ]
    }
   ],
   "source": [
    "import requests\n",
    "\n",
    "def fetch_json(target, metric):\n",
    "    url = f\"https://oss.x-lab.info/open_digger/github/{target}/{metric}.json\"\n",
    "    response = requests.get(url)\n",
    "    if response.status_code == 200:\n",
    "        return response.json()\n",
    "    else:\n",
    "        return None\n",
    "\n",
    "def get_value_by_month(data, month):\n",
    "    if month in data:\n",
    "        return data[month]\n",
    "    else:\n",
    "        return None\n",
    "\n",
    "if __name__ == '__main__':\n",
    "    target = DEFAULT_TARGET\n",
    "    metric = METRIC[\"OPENRANK\"]\n",
    "    json_data = fetch_json(target, metric)\n",
    "    if json_data is not None:\n",
    "        print(\"JSON data fetched successfully.\")\n",
    "        month = input(\"Enter the month (optional): \")\n",
    "        if month:\n",
    "            value = get_value_by_month(json_data, month)\n",
    "            if value is not None:\n",
    "                print(f\"Value for {metric} in {month}: {value}\")\n",
    "            else:\n",
    "                print(f\"No data available for {metric} in {month}.\")\n",
    "        else:\n",
    "            print(\"No specific month provided.\")\n",
    "    else:\n",
    "        print(\"Failed to fetch JSON data.\")"
   ]
  }
 ],
 "metadata": {
  "kernelspec": {
   "display_name": "sb3",
   "language": "python",
   "name": "python3"
  },
  "language_info": {
   "codemirror_mode": {
    "name": "ipython",
    "version": 3
   },
   "file_extension": ".py",
   "mimetype": "text/x-python",
   "name": "python",
   "nbconvert_exporter": "python",
   "pygments_lexer": "ipython3",
   "version": "3.10.11"
  },
  "orig_nbformat": 4
 },
 "nbformat": 4,
 "nbformat_minor": 2
}
